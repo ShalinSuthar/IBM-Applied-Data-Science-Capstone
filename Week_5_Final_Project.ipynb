{
 "cells": [
  {
   "cell_type": "markdown",
   "metadata": {
    "collapsed": true
   },
   "source": [
    "# THE BATTLE OF NEIGHBORHOODS"
   ]
  },
  {
   "cell_type": "markdown",
   "metadata": {},
   "source": [
    "# Introduction:"
   ]
  },
  {
   "cell_type": "markdown",
   "metadata": {},
   "source": [
    "New York City's demographics show that it is a large and ethnically diverse metropolis. With it's diverse culture , comes diverse food items. There are many resturants in New york City, each beloning to different categories like Chinese , Indian , French etc.\n",
    "\n",
    "So as part of this project , we will list and visualize all major parts of New York City that has great indian resturants."
   ]
  },
  {
   "cell_type": "markdown",
   "metadata": {},
   "source": [
    "# Data:"
   ]
  },
  {
   "cell_type": "markdown",
   "metadata": {},
   "source": [
    "For this project we need the following data:\n",
    "1. New York City data that contains list Boroughs, Neighborhoods along with their latitude and longitude.\n",
    "2. Indian resturants in each neighborhood of new york city.\n",
    "3. GeoSpace data"
   ]
  },
  {
   "cell_type": "markdown",
   "metadata": {},
   "source": [
    "## Questions that will be answers at the end of this project :"
   ]
  },
  {
   "cell_type": "markdown",
   "metadata": {},
   "source": [
    "### 1. What are best location in New York City for Indian Cuisine?\n",
    "### 2. Which areas have potential Indian Restaurant Market?\n",
    "### 3. Which all areas lack Indian Restaurants?\n",
    "### 4. Which is the best place to stay if you prefer Indian Cuisine?"
   ]
  },
  {
   "cell_type": "markdown",
   "metadata": {},
   "source": [
    "# Methodology:"
   ]
  },
  {
   "cell_type": "markdown",
   "metadata": {},
   "source": [
    "1. We begin by collecting the New York city data from \"https://cocl.us/new_york_dataset\".\n",
    "2. We will find all venues for each neighborhood using FourSquare API.\n",
    "3. We will then filter out all Indian Restuarant venues.\n",
    "4. Next using FourSquare API, we will find the Ratings, Tips, and Like count for all the Indian Resturants.\n",
    "5. Next we will sort the data keeping Ratings as the constraint.\n",
    "6. Finally, we will visualize the Ranking of neighborhoods using python's Folium library."
   ]
  },
  {
   "cell_type": "markdown",
   "metadata": {},
   "source": [
    "Lets Start by importing the required Libraries."
   ]
  },
  {
   "cell_type": "code",
   "execution_count": 56,
   "metadata": {},
   "outputs": [
    {
     "name": "stdout",
     "output_type": "stream",
     "text": [
      "Libraries imported.\n"
     ]
    }
   ],
   "source": [
    "import pandas as pd\n",
    "import numpy as np\n",
    "pd.set_option('display.max_columns', None)\n",
    "pd.set_option('display.max_rows', None)\n",
    "import requests\n",
    "from bs4 import BeautifulSoup\n",
    "#!pip install geocoder\n",
    "import geocoder\n",
    "import os\n",
    "#!pip install folium\n",
    "import folium # map rendering library\n",
    "from geopy.geocoders import Nominatim # convert an address into latitude and longitude values\n",
    "# Matplotlib and associated plotting modules\n",
    "import matplotlib.pyplot as plt\n",
    "import matplotlib.cm as cm\n",
    "import matplotlib.colors as colors\n",
    "%matplotlib inline\n",
    "\n",
    "\n",
    "print('Libraries imported.')"
   ]
  },
  {
   "cell_type": "markdown",
   "metadata": {},
   "source": [
    "Now we define a function to get the geocodes i.e latitude and longitude of a given location using geopy."
   ]
  },
  {
   "cell_type": "code",
   "execution_count": 2,
   "metadata": {},
   "outputs": [],
   "source": [
    "def geo_location(address):\n",
    "    # get geo location of address\n",
    "    geolocator = Nominatim(user_agent=\"ny_explorer\")\n",
    "    location = geolocator.geocode(address)\n",
    "    latitude = location.latitude\n",
    "    longitude = location.longitude\n",
    "    return latitude,longitude"
   ]
  },
  {
   "cell_type": "markdown",
   "metadata": {},
   "source": [
    "We define a function to intract with FourSquare API and get top 100 venues within a radius of 1000 metres for a given latitude and longitude. Below function will return us the venue id , venue name and category."
   ]
  },
  {
   "cell_type": "code",
   "execution_count": 54,
   "metadata": {},
   "outputs": [],
   "source": [
    "def get_venues(lat,lng):\n",
    "    \n",
    "    #set variables\n",
    "    radius=1000\n",
    "    LIMIT=100\n",
    "    CLIENT_ID = ['CLIENT_ID'] # your Foursquare ID\n",
    "    CLIENT_SECRET = ['CLIENT_SECRET'] # your Foursquare Secret\n",
    "    VERSION = '20200401' # Foursquare API version\n",
    "    \n",
    "    #url to fetch data from foursquare api\n",
    "    url = 'https://api.foursquare.com/v2/venues/explore?&client_id={}&client_secret={}&v={}&ll={},{}&radius={}&limit={}'.format(\n",
    "            CLIENT_ID, \n",
    "            CLIENT_SECRET, \n",
    "            VERSION, \n",
    "            lat, \n",
    "            lng, \n",
    "            radius, \n",
    "            LIMIT)\n",
    "    \n",
    "    # get all the data\n",
    "    results = requests.get(url).json()\n",
    "    venue_data=results[\"response\"]['groups'][0]['items']\n",
    "    venue_details=[]\n",
    "    for row in venue_data:\n",
    "        try:\n",
    "            venue_id=row['venue']['id']\n",
    "            venue_name=row['venue']['name']\n",
    "            venue_category=row['venue']['categories'][0]['name']\n",
    "            venue_details.append([venue_id,venue_name,venue_category])\n",
    "        except KeyError:\n",
    "            pass\n",
    "        \n",
    "    column_names=['ID','Name','Category']\n",
    "    df = pd.DataFrame(venue_details,columns=column_names)\n",
    "    return df"
   ]
  },
  {
   "cell_type": "markdown",
   "metadata": {},
   "source": [
    "Now we will define a function to get venue details like like count , rating , tip counts for a given venue id. This will be used for ranking."
   ]
  },
  {
   "cell_type": "code",
   "execution_count": 55,
   "metadata": {},
   "outputs": [],
   "source": [
    "def get_venue_details(venue_id):\n",
    "        \n",
    "    CLIENT_ID = ['CLIENT_ID'] # your Foursquare ID\n",
    "    CLIENT_SECRET = ['CLIENT_SECRET'] # your Foursquare Secret\n",
    "    VERSION = '20200401' # Foursquare API version\n",
    "    \n",
    "    #url to fetch data from foursquare api\n",
    "    url = 'https://api.foursquare.com/v2/venues/{}?&client_id={}&client_secret={}&v={}'.format(\n",
    "            venue_id,\n",
    "            CLIENT_ID, \n",
    "            CLIENT_SECRET, \n",
    "            VERSION)\n",
    "    \n",
    "    # get all the data\n",
    "    results = requests.get(url).json()\n",
    "    venue_data=results['response']['venue']\n",
    "    venue_details=[]\n",
    "    try:\n",
    "        venue_id=venue_data['id']\n",
    "        venue_name=venue_data['name']\n",
    "        venue_likes=venue_data['likes']['count']\n",
    "        venue_rating=venue_data['rating']\n",
    "        venue_tips=venue_data['tips']['count']\n",
    "        venue_details.append([venue_id,venue_name,venue_likes,venue_rating,venue_tips])\n",
    "    except KeyError:\n",
    "        pass\n",
    "        \n",
    "    column_names=['ID','Name','Likes','Rating','Tips']\n",
    "    df = pd.DataFrame(venue_details,columns=column_names)\n",
    "    return df"
   ]
  },
  {
   "cell_type": "markdown",
   "metadata": {},
   "source": [
    "Now we define a funtion to get the new york city data such as Boroughs, Neighborhoods along with their latitude and longitude."
   ]
  },
  {
   "cell_type": "code",
   "execution_count": 5,
   "metadata": {},
   "outputs": [],
   "source": [
    "def get_new_york_data():\n",
    "    url='https://cocl.us/new_york_dataset'\n",
    "    resp=requests.get(url).json()\n",
    "    # all data is present in features label\n",
    "    features=resp['features']\n",
    "    \n",
    "    # define the dataframe columns\n",
    "    column_names = ['Borough', 'Neighborhood', 'Latitude', 'Longitude'] \n",
    "    # instantiate the dataframe\n",
    "    new_york_data = pd.DataFrame(columns=column_names)\n",
    "    \n",
    "    for data in features:\n",
    "        borough = data['properties']['borough'] \n",
    "        neighborhood_name = data['properties']['name']\n",
    "        \n",
    "        neighborhood_latlon = data['geometry']['coordinates']\n",
    "        neighborhood_lat = neighborhood_latlon[1]\n",
    "        neighborhood_lon = neighborhood_latlon[0]\n",
    "    \n",
    "        new_york_data = new_york_data.append({'Borough': borough,\n",
    "                                          'Neighborhood': neighborhood_name,\n",
    "                                          'Latitude': neighborhood_lat,\n",
    "                                          'Longitude': neighborhood_lon}, ignore_index=True)\n",
    "    \n",
    "    return new_york_data"
   ]
  },
  {
   "cell_type": "markdown",
   "metadata": {},
   "source": [
    "We will call the above funtion to get the new york city data."
   ]
  },
  {
   "cell_type": "code",
   "execution_count": 6,
   "metadata": {},
   "outputs": [],
   "source": [
    "new_york_data=get_new_york_data()"
   ]
  },
  {
   "cell_type": "code",
   "execution_count": 7,
   "metadata": {},
   "outputs": [
    {
     "data": {
      "text/html": [
       "<div>\n",
       "<style scoped>\n",
       "    .dataframe tbody tr th:only-of-type {\n",
       "        vertical-align: middle;\n",
       "    }\n",
       "\n",
       "    .dataframe tbody tr th {\n",
       "        vertical-align: top;\n",
       "    }\n",
       "\n",
       "    .dataframe thead th {\n",
       "        text-align: right;\n",
       "    }\n",
       "</style>\n",
       "<table border=\"1\" class=\"dataframe\">\n",
       "  <thead>\n",
       "    <tr style=\"text-align: right;\">\n",
       "      <th></th>\n",
       "      <th>Borough</th>\n",
       "      <th>Neighborhood</th>\n",
       "      <th>Latitude</th>\n",
       "      <th>Longitude</th>\n",
       "    </tr>\n",
       "  </thead>\n",
       "  <tbody>\n",
       "    <tr>\n",
       "      <td>0</td>\n",
       "      <td>Bronx</td>\n",
       "      <td>Wakefield</td>\n",
       "      <td>40.894705</td>\n",
       "      <td>-73.847201</td>\n",
       "    </tr>\n",
       "    <tr>\n",
       "      <td>1</td>\n",
       "      <td>Bronx</td>\n",
       "      <td>Co-op City</td>\n",
       "      <td>40.874294</td>\n",
       "      <td>-73.829939</td>\n",
       "    </tr>\n",
       "    <tr>\n",
       "      <td>2</td>\n",
       "      <td>Bronx</td>\n",
       "      <td>Eastchester</td>\n",
       "      <td>40.887556</td>\n",
       "      <td>-73.827806</td>\n",
       "    </tr>\n",
       "    <tr>\n",
       "      <td>3</td>\n",
       "      <td>Bronx</td>\n",
       "      <td>Fieldston</td>\n",
       "      <td>40.895437</td>\n",
       "      <td>-73.905643</td>\n",
       "    </tr>\n",
       "    <tr>\n",
       "      <td>4</td>\n",
       "      <td>Bronx</td>\n",
       "      <td>Riverdale</td>\n",
       "      <td>40.890834</td>\n",
       "      <td>-73.912585</td>\n",
       "    </tr>\n",
       "  </tbody>\n",
       "</table>\n",
       "</div>"
      ],
      "text/plain": [
       "  Borough Neighborhood   Latitude  Longitude\n",
       "0   Bronx    Wakefield  40.894705 -73.847201\n",
       "1   Bronx   Co-op City  40.874294 -73.829939\n",
       "2   Bronx  Eastchester  40.887556 -73.827806\n",
       "3   Bronx    Fieldston  40.895437 -73.905643\n",
       "4   Bronx    Riverdale  40.890834 -73.912585"
      ]
     },
     "execution_count": 7,
     "metadata": {},
     "output_type": "execute_result"
    }
   ],
   "source": [
    "new_york_data.head()"
   ]
  },
  {
   "cell_type": "code",
   "execution_count": 8,
   "metadata": {},
   "outputs": [
    {
     "data": {
      "text/plain": [
       "(306, 4)"
      ]
     },
     "execution_count": 8,
     "metadata": {},
     "output_type": "execute_result"
    }
   ],
   "source": [
    "new_york_data.shape"
   ]
  },
  {
   "cell_type": "markdown",
   "metadata": {},
   "source": [
    "### The above result shows that there are 306 different Neighborhoods in New York."
   ]
  },
  {
   "cell_type": "markdown",
   "metadata": {},
   "source": [
    "Now let create a BAR PLOT to show different Neighborhoods in New York."
   ]
  },
  {
   "cell_type": "code",
   "execution_count": 9,
   "metadata": {},
   "outputs": [
    {
     "data": {
      "image/png": "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\n",
      "text/plain": [
       "<Figure size 900x500 with 1 Axes>"
      ]
     },
     "metadata": {
      "needs_background": "light"
     },
     "output_type": "display_data"
    }
   ],
   "source": [
    "plt.figure(figsize=(9,5), dpi = 100)\n",
    "# title\n",
    "plt.title('Number of Neighborhood for each Borough in New York City')\n",
    "#On x-axis\n",
    "plt.xlabel('Borough', fontsize = 15)\n",
    "#On y-axis\n",
    "plt.ylabel('No.of Neighborhood', fontsize=15)\n",
    "#giving a bar plot\n",
    "new_york_data.groupby('Borough')['Neighborhood'].count().plot(kind='bar')\n",
    "#legend\n",
    "plt.legend()\n",
    "#displays the plot\n",
    "plt.show()"
   ]
  },
  {
   "cell_type": "markdown",
   "metadata": {},
   "source": [
    "### From the above Bar Plot, we can see that Queens has highest number of neighborhoods."
   ]
  },
  {
   "cell_type": "markdown",
   "metadata": {},
   "source": [
    "Next we will collect Indian resturants for each Neighborhood."
   ]
  },
  {
   "cell_type": "code",
   "execution_count": 10,
   "metadata": {},
   "outputs": [
    {
     "name": "stdout",
     "output_type": "stream",
     "text": [
      "( 1 / 306 ) Indian Resturants in Wakefield, Bronx:0\n",
      "( 2 / 306 ) Indian Resturants in Co-op City, Bronx:0\n",
      "( 3 / 306 ) Indian Resturants in Eastchester, Bronx:0\n",
      "( 4 / 306 ) Indian Resturants in Fieldston, Bronx:0\n",
      "( 5 / 306 ) Indian Resturants in Riverdale, Bronx:0\n",
      "( 6 / 306 ) Indian Resturants in Kingsbridge, Bronx:0\n",
      "( 7 / 306 ) Indian Resturants in Marble Hill, Manhattan:0\n",
      "( 8 / 306 ) Indian Resturants in Woodlawn, Bronx:1\n",
      "( 9 / 306 ) Indian Resturants in Norwood, Bronx:0\n",
      "( 10 / 306 ) Indian Resturants in Williamsbridge, Bronx:0\n",
      "( 11 / 306 ) Indian Resturants in Baychester, Bronx:0\n",
      "( 12 / 306 ) Indian Resturants in Pelham Parkway, Bronx:0\n",
      "( 13 / 306 ) Indian Resturants in City Island, Bronx:0\n",
      "( 14 / 306 ) Indian Resturants in Bedford Park, Bronx:0\n",
      "( 15 / 306 ) Indian Resturants in University Heights, Bronx:0\n",
      "( 16 / 306 ) Indian Resturants in Morris Heights, Bronx:0\n",
      "( 17 / 306 ) Indian Resturants in Fordham, Bronx:0\n",
      "( 18 / 306 ) Indian Resturants in East Tremont, Bronx:0\n",
      "( 19 / 306 ) Indian Resturants in West Farms, Bronx:0\n",
      "( 20 / 306 ) Indian Resturants in High  Bridge, Bronx:0\n",
      "( 21 / 306 ) Indian Resturants in Melrose, Bronx:0\n",
      "( 22 / 306 ) Indian Resturants in Mott Haven, Bronx:0\n",
      "( 23 / 306 ) Indian Resturants in Port Morris, Bronx:0\n",
      "( 24 / 306 ) Indian Resturants in Longwood, Bronx:0\n",
      "( 25 / 306 ) Indian Resturants in Hunts Point, Bronx:0\n",
      "( 26 / 306 ) Indian Resturants in Morrisania, Bronx:0\n",
      "( 27 / 306 ) Indian Resturants in Soundview, Bronx:0\n",
      "( 28 / 306 ) Indian Resturants in Clason Point, Bronx:0\n",
      "( 29 / 306 ) Indian Resturants in Throgs Neck, Bronx:0\n",
      "( 30 / 306 ) Indian Resturants in Country Club, Bronx:0\n",
      "( 31 / 306 ) Indian Resturants in Parkchester, Bronx:1\n",
      "( 32 / 306 ) Indian Resturants in Westchester Square, Bronx:0\n",
      "( 33 / 306 ) Indian Resturants in Van Nest, Bronx:0\n",
      "( 34 / 306 ) Indian Resturants in Morris Park, Bronx:0\n",
      "( 35 / 306 ) Indian Resturants in Belmont, Bronx:0\n",
      "( 36 / 306 ) Indian Resturants in Spuyten Duyvil, Bronx:1\n",
      "( 37 / 306 ) Indian Resturants in North Riverdale, Bronx:0\n",
      "( 38 / 306 ) Indian Resturants in Pelham Bay, Bronx:0\n",
      "( 39 / 306 ) Indian Resturants in Schuylerville, Bronx:0\n",
      "( 40 / 306 ) Indian Resturants in Edgewater Park, Bronx:0\n",
      "( 41 / 306 ) Indian Resturants in Castle Hill, Bronx:0\n",
      "( 42 / 306 ) Indian Resturants in Olinville, Bronx:0\n",
      "( 43 / 306 ) Indian Resturants in Pelham Gardens, Bronx:0\n",
      "( 44 / 306 ) Indian Resturants in Concourse, Bronx:1\n",
      "( 45 / 306 ) Indian Resturants in Unionport, Bronx:2\n",
      "( 46 / 306 ) Indian Resturants in Edenwald, Bronx:0\n",
      "( 47 / 306 ) Indian Resturants in Bay Ridge, Brooklyn:1\n",
      "( 48 / 306 ) Indian Resturants in Bensonhurst, Brooklyn:0\n",
      "( 49 / 306 ) Indian Resturants in Sunset Park, Brooklyn:0\n",
      "( 50 / 306 ) Indian Resturants in Greenpoint, Brooklyn:0\n",
      "( 51 / 306 ) Indian Resturants in Gravesend, Brooklyn:0\n",
      "( 52 / 306 ) Indian Resturants in Brighton Beach, Brooklyn:1\n",
      "( 53 / 306 ) Indian Resturants in Sheepshead Bay, Brooklyn:0\n",
      "( 54 / 306 ) Indian Resturants in Manhattan Terrace, Brooklyn:0\n",
      "( 55 / 306 ) Indian Resturants in Flatbush, Brooklyn:2\n",
      "( 56 / 306 ) Indian Resturants in Crown Heights, Brooklyn:0\n",
      "( 57 / 306 ) Indian Resturants in East Flatbush, Brooklyn:1\n",
      "( 58 / 306 ) Indian Resturants in Kensington, Brooklyn:2\n",
      "( 59 / 306 ) Indian Resturants in Windsor Terrace, Brooklyn:0\n",
      "( 60 / 306 ) Indian Resturants in Prospect Heights, Brooklyn:0\n",
      "( 61 / 306 ) Indian Resturants in Brownsville, Brooklyn:0\n",
      "( 62 / 306 ) Indian Resturants in Williamsburg, Brooklyn:0\n",
      "( 63 / 306 ) Indian Resturants in Bushwick, Brooklyn:0\n",
      "( 64 / 306 ) Indian Resturants in Bedford Stuyvesant, Brooklyn:0\n",
      "( 65 / 306 ) Indian Resturants in Brooklyn Heights, Brooklyn:0\n",
      "( 66 / 306 ) Indian Resturants in Cobble Hill, Brooklyn:0\n",
      "( 67 / 306 ) Indian Resturants in Carroll Gardens, Brooklyn:0\n",
      "( 68 / 306 ) Indian Resturants in Red Hook, Brooklyn:0\n",
      "( 69 / 306 ) Indian Resturants in Gowanus, Brooklyn:1\n",
      "( 70 / 306 ) Indian Resturants in Fort Greene, Brooklyn:1\n",
      "( 71 / 306 ) Indian Resturants in Park Slope, Brooklyn:0\n",
      "( 72 / 306 ) Indian Resturants in Cypress Hills, Brooklyn:0\n",
      "( 73 / 306 ) Indian Resturants in East New York, Brooklyn:0\n",
      "( 74 / 306 ) Indian Resturants in Starrett City, Brooklyn:0\n",
      "( 75 / 306 ) Indian Resturants in Canarsie, Brooklyn:0\n",
      "( 76 / 306 ) Indian Resturants in Flatlands, Brooklyn:0\n",
      "( 77 / 306 ) Indian Resturants in Mill Island, Brooklyn:0\n",
      "( 78 / 306 ) Indian Resturants in Manhattan Beach, Brooklyn:0\n",
      "( 79 / 306 ) Indian Resturants in Coney Island, Brooklyn:0\n",
      "( 80 / 306 ) Indian Resturants in Bath Beach, Brooklyn:0\n",
      "( 81 / 306 ) Indian Resturants in Borough Park, Brooklyn:0\n",
      "( 82 / 306 ) Indian Resturants in Dyker Heights, Brooklyn:0\n",
      "( 83 / 306 ) Indian Resturants in Gerritsen Beach, Brooklyn:0\n",
      "( 84 / 306 ) Indian Resturants in Marine Park, Brooklyn:0\n",
      "( 85 / 306 ) Indian Resturants in Clinton Hill, Brooklyn:2\n",
      "( 86 / 306 ) Indian Resturants in Sea Gate, Brooklyn:0\n",
      "( 87 / 306 ) Indian Resturants in Downtown, Brooklyn:0\n",
      "( 88 / 306 ) Indian Resturants in Boerum Hill, Brooklyn:0\n",
      "( 89 / 306 ) Indian Resturants in Prospect Lefferts Gardens, Brooklyn:2\n",
      "( 90 / 306 ) Indian Resturants in Ocean Hill, Brooklyn:2\n",
      "( 91 / 306 ) Indian Resturants in City Line, Brooklyn:0\n",
      "( 92 / 306 ) Indian Resturants in Bergen Beach, Brooklyn:0\n",
      "( 93 / 306 ) Indian Resturants in Midwood, Brooklyn:0\n",
      "( 94 / 306 ) Indian Resturants in Prospect Park South, Brooklyn:2\n",
      "( 95 / 306 ) Indian Resturants in Georgetown, Brooklyn:0\n",
      "( 96 / 306 ) Indian Resturants in East Williamsburg, Brooklyn:0\n",
      "( 97 / 306 ) Indian Resturants in North Side, Brooklyn:1\n",
      "( 98 / 306 ) Indian Resturants in South Side, Brooklyn:1\n",
      "( 99 / 306 ) Indian Resturants in Ocean Parkway, Brooklyn:0\n",
      "( 100 / 306 ) Indian Resturants in Fort Hamilton, Brooklyn:0\n",
      "( 101 / 306 ) Indian Resturants in Chinatown, Manhattan:0\n",
      "( 102 / 306 ) Indian Resturants in Washington Heights, Manhattan:1\n",
      "( 103 / 306 ) Indian Resturants in Inwood, Manhattan:0\n",
      "( 104 / 306 ) Indian Resturants in Hamilton Heights, Manhattan:2\n",
      "( 105 / 306 ) Indian Resturants in Manhattanville, Manhattan:2\n",
      "( 106 / 306 ) Indian Resturants in Central Harlem, Manhattan:2\n",
      "( 107 / 306 ) Indian Resturants in East Harlem, Manhattan:1\n",
      "( 108 / 306 ) Indian Resturants in Upper East Side, Manhattan:0\n",
      "( 109 / 306 ) Indian Resturants in Yorkville, Manhattan:1\n",
      "( 110 / 306 ) Indian Resturants in Lenox Hill, Manhattan:0\n",
      "( 111 / 306 ) Indian Resturants in Roosevelt Island, Manhattan:1\n",
      "( 112 / 306 ) Indian Resturants in Upper West Side, Manhattan:2\n",
      "( 113 / 306 ) Indian Resturants in Lincoln Square, Manhattan:0\n",
      "( 114 / 306 ) Indian Resturants in Clinton, Manhattan:0\n",
      "( 115 / 306 ) Indian Resturants in Midtown, Manhattan:1\n",
      "( 116 / 306 ) Indian Resturants in Murray Hill, Manhattan:1\n",
      "( 117 / 306 ) Indian Resturants in Chelsea, Manhattan:1\n",
      "( 118 / 306 ) Indian Resturants in Greenwich Village, Manhattan:0\n",
      "( 119 / 306 ) Indian Resturants in East Village, Manhattan:0\n",
      "( 120 / 306 ) Indian Resturants in Lower East Side, Manhattan:0\n",
      "( 121 / 306 ) Indian Resturants in Tribeca, Manhattan:1\n",
      "( 122 / 306 ) Indian Resturants in Little Italy, Manhattan:0\n",
      "( 123 / 306 ) Indian Resturants in Soho, Manhattan:0\n",
      "( 124 / 306 ) Indian Resturants in West Village, Manhattan:2\n",
      "( 125 / 306 ) Indian Resturants in Manhattan Valley, Manhattan:5\n",
      "( 126 / 306 ) Indian Resturants in Morningside Heights, Manhattan:1\n",
      "( 127 / 306 ) Indian Resturants in Gramercy, Manhattan:3\n",
      "( 128 / 306 ) Indian Resturants in Battery Park City, Manhattan:0\n",
      "( 129 / 306 ) Indian Resturants in Financial District, Manhattan:0\n",
      "( 130 / 306 ) Indian Resturants in Astoria, Queens:1\n",
      "( 131 / 306 ) Indian Resturants in Woodside, Queens:8\n",
      "( 132 / 306 ) Indian Resturants in Jackson Heights, Queens:6\n",
      "( 133 / 306 ) Indian Resturants in Elmhurst, Queens:2\n",
      "( 134 / 306 ) Indian Resturants in Howard Beach, Queens:0\n",
      "( 135 / 306 ) Indian Resturants in Corona, Queens:0\n",
      "( 136 / 306 ) Indian Resturants in Forest Hills, Queens:0\n",
      "( 137 / 306 ) Indian Resturants in Kew Gardens, Queens:2\n",
      "( 138 / 306 ) Indian Resturants in Richmond Hill, Queens:6\n",
      "( 139 / 306 ) Indian Resturants in Flushing, Queens:0\n",
      "( 140 / 306 ) Indian Resturants in Long Island City, Queens:2\n",
      "( 141 / 306 ) Indian Resturants in Sunnyside, Queens:1\n",
      "( 142 / 306 ) Indian Resturants in East Elmhurst, Queens:0\n",
      "( 143 / 306 ) Indian Resturants in Maspeth, Queens:0\n",
      "( 144 / 306 ) Indian Resturants in Ridgewood, Queens:1\n",
      "( 145 / 306 ) Indian Resturants in Glendale, Queens:0\n",
      "( 146 / 306 ) Indian Resturants in Rego Park, Queens:1\n",
      "( 147 / 306 ) Indian Resturants in Woodhaven, Queens:0\n",
      "( 148 / 306 ) Indian Resturants in Ozone Park, Queens:1\n",
      "( 149 / 306 ) Indian Resturants in South Ozone Park, Queens:0\n",
      "( 150 / 306 ) Indian Resturants in College Point, Queens:0\n",
      "( 151 / 306 ) Indian Resturants in Whitestone, Queens:0\n",
      "( 152 / 306 ) Indian Resturants in Bayside, Queens:3\n",
      "( 153 / 306 ) Indian Resturants in Auburndale, Queens:0\n",
      "( 154 / 306 ) Indian Resturants in Little Neck, Queens:0\n",
      "( 155 / 306 ) Indian Resturants in Douglaston, Queens:0\n",
      "( 156 / 306 ) Indian Resturants in Glen Oaks, Queens:4\n",
      "( 157 / 306 ) Indian Resturants in Bellerose, Queens:2\n",
      "( 158 / 306 ) Indian Resturants in Kew Gardens Hills, Queens:1\n",
      "( 159 / 306 ) Indian Resturants in Fresh Meadows, Queens:0\n",
      "( 160 / 306 ) Indian Resturants in Briarwood, Queens:3\n",
      "( 161 / 306 ) Indian Resturants in Jamaica Center, Queens:3\n",
      "( 162 / 306 ) Indian Resturants in Oakland Gardens, Queens:0\n",
      "( 163 / 306 ) Indian Resturants in Queens Village, Queens:0\n",
      "( 164 / 306 ) Indian Resturants in Hollis, Queens:0\n",
      "( 165 / 306 ) Indian Resturants in South Jamaica, Queens:0\n",
      "( 166 / 306 ) Indian Resturants in St. Albans, Queens:0\n",
      "( 167 / 306 ) Indian Resturants in Rochdale, Queens:0\n",
      "( 168 / 306 ) Indian Resturants in Springfield Gardens, Queens:0\n",
      "( 169 / 306 ) Indian Resturants in Cambria Heights, Queens:0\n",
      "( 170 / 306 ) Indian Resturants in Rosedale, Queens:0\n",
      "( 171 / 306 ) Indian Resturants in Far Rockaway, Queens:0\n",
      "( 172 / 306 ) Indian Resturants in Broad Channel, Queens:0\n",
      "( 173 / 306 ) Indian Resturants in Breezy Point, Queens:0\n",
      "( 174 / 306 ) Indian Resturants in Steinway, Queens:1\n",
      "( 175 / 306 ) Indian Resturants in Beechhurst, Queens:0\n",
      "( 176 / 306 ) Indian Resturants in Bay Terrace, Queens:0\n",
      "( 177 / 306 ) Indian Resturants in Edgemere, Queens:0\n",
      "( 178 / 306 ) Indian Resturants in Arverne, Queens:0\n",
      "( 179 / 306 ) Indian Resturants in Rockaway Beach, Queens:0\n",
      "( 180 / 306 ) Indian Resturants in Neponsit, Queens:0\n",
      "( 181 / 306 ) Indian Resturants in Murray Hill, Queens:0\n",
      "( 182 / 306 ) Indian Resturants in Floral Park, Queens:11\n",
      "( 183 / 306 ) Indian Resturants in Holliswood, Queens:1\n",
      "( 184 / 306 ) Indian Resturants in Jamaica Estates, Queens:2\n",
      "( 185 / 306 ) Indian Resturants in Queensboro Hill, Queens:0\n",
      "( 186 / 306 ) Indian Resturants in Hillcrest, Queens:0\n",
      "( 187 / 306 ) Indian Resturants in Ravenswood, Queens:1\n",
      "( 188 / 306 ) Indian Resturants in Lindenwood, Queens:0\n",
      "( 189 / 306 ) Indian Resturants in Laurelton, Queens:0\n",
      "( 190 / 306 ) Indian Resturants in Lefrak City, Queens:0\n",
      "( 191 / 306 ) Indian Resturants in Belle Harbor, Queens:0\n",
      "( 192 / 306 ) Indian Resturants in Rockaway Park, Queens:0\n",
      "( 193 / 306 ) Indian Resturants in Somerville, Queens:0\n",
      "( 194 / 306 ) Indian Resturants in Brookville, Queens:0\n",
      "( 195 / 306 ) Indian Resturants in Bellaire, Queens:1\n",
      "( 196 / 306 ) Indian Resturants in North Corona, Queens:0\n",
      "( 197 / 306 ) Indian Resturants in Forest Hills Gardens, Queens:0\n",
      "( 198 / 306 ) Indian Resturants in St. George, Staten Island:0\n",
      "( 199 / 306 ) Indian Resturants in New Brighton, Staten Island:1\n",
      "( 200 / 306 ) Indian Resturants in Stapleton, Staten Island:0\n",
      "( 201 / 306 ) Indian Resturants in Rosebank, Staten Island:0\n",
      "( 202 / 306 ) Indian Resturants in West Brighton, Staten Island:0\n",
      "( 203 / 306 ) Indian Resturants in Grymes Hill, Staten Island:0\n",
      "( 204 / 306 ) Indian Resturants in Todt Hill, Staten Island:0\n",
      "( 205 / 306 ) Indian Resturants in South Beach, Staten Island:0\n",
      "( 206 / 306 ) Indian Resturants in Port Richmond, Staten Island:0\n",
      "( 207 / 306 ) Indian Resturants in Mariner's Harbor, Staten Island:0\n",
      "( 208 / 306 ) Indian Resturants in Port Ivory, Staten Island:0\n",
      "( 209 / 306 ) Indian Resturants in Castleton Corners, Staten Island:0\n",
      "( 210 / 306 ) Indian Resturants in New Springville, Staten Island:0\n",
      "( 211 / 306 ) Indian Resturants in Travis, Staten Island:0\n",
      "( 212 / 306 ) Indian Resturants in New Dorp, Staten Island:1\n",
      "( 213 / 306 ) Indian Resturants in Oakwood, Staten Island:0\n",
      "( 214 / 306 ) Indian Resturants in Great Kills, Staten Island:0\n",
      "( 215 / 306 ) Indian Resturants in Eltingville, Staten Island:0\n",
      "( 216 / 306 ) Indian Resturants in Annadale, Staten Island:0\n",
      "( 217 / 306 ) Indian Resturants in Woodrow, Staten Island:0\n",
      "( 218 / 306 ) Indian Resturants in Tottenville, Staten Island:0\n",
      "( 219 / 306 ) Indian Resturants in Tompkinsville, Staten Island:1\n",
      "( 220 / 306 ) Indian Resturants in Silver Lake, Staten Island:0\n",
      "( 221 / 306 ) Indian Resturants in Sunnyside, Staten Island:1\n",
      "( 222 / 306 ) Indian Resturants in Ditmas Park, Brooklyn:3\n",
      "( 223 / 306 ) Indian Resturants in Wingate, Brooklyn:0\n",
      "( 224 / 306 ) Indian Resturants in Rugby, Brooklyn:0\n",
      "( 225 / 306 ) Indian Resturants in Park Hill, Staten Island:1\n",
      "( 226 / 306 ) Indian Resturants in Westerleigh, Staten Island:0\n",
      "( 227 / 306 ) Indian Resturants in Graniteville, Staten Island:0\n",
      "( 228 / 306 ) Indian Resturants in Arlington, Staten Island:0\n",
      "( 229 / 306 ) Indian Resturants in Arrochar, Staten Island:0\n",
      "( 230 / 306 ) Indian Resturants in Grasmere, Staten Island:0\n",
      "( 231 / 306 ) Indian Resturants in Old Town, Staten Island:0\n",
      "( 232 / 306 ) Indian Resturants in Dongan Hills, Staten Island:0\n",
      "( 233 / 306 ) Indian Resturants in Midland Beach, Staten Island:0\n",
      "( 234 / 306 ) Indian Resturants in Grant City, Staten Island:1\n",
      "( 235 / 306 ) Indian Resturants in New Dorp Beach, Staten Island:0\n",
      "( 236 / 306 ) Indian Resturants in Bay Terrace, Staten Island:0\n",
      "( 237 / 306 ) Indian Resturants in Huguenot, Staten Island:0\n",
      "( 238 / 306 ) Indian Resturants in Pleasant Plains, Staten Island:0\n",
      "( 239 / 306 ) Indian Resturants in Butler Manor, Staten Island:0\n",
      "( 240 / 306 ) Indian Resturants in Charleston, Staten Island:0\n",
      "( 241 / 306 ) Indian Resturants in Rossville, Staten Island:0\n",
      "( 242 / 306 ) Indian Resturants in Arden Heights, Staten Island:0\n",
      "( 243 / 306 ) Indian Resturants in Greenridge, Staten Island:0\n",
      "( 244 / 306 ) Indian Resturants in Heartland Village, Staten Island:0\n",
      "( 245 / 306 ) Indian Resturants in Chelsea, Staten Island:0\n",
      "( 246 / 306 ) Indian Resturants in Bloomfield, Staten Island:0\n",
      "( 247 / 306 ) Indian Resturants in Bulls Head, Staten Island:0\n",
      "( 248 / 306 ) Indian Resturants in Carnegie Hill, Manhattan:3\n",
      "( 249 / 306 ) Indian Resturants in Noho, Manhattan:0\n",
      "( 250 / 306 ) Indian Resturants in Civic Center, Manhattan:1\n",
      "( 251 / 306 ) Indian Resturants in Midtown South, Manhattan:1\n",
      "( 252 / 306 ) Indian Resturants in Richmond Town, Staten Island:0\n",
      "( 253 / 306 ) Indian Resturants in Shore Acres, Staten Island:0\n",
      "( 254 / 306 ) Indian Resturants in Clifton, Staten Island:0\n",
      "( 255 / 306 ) Indian Resturants in Concord, Staten Island:1\n",
      "( 256 / 306 ) Indian Resturants in Emerson Hill, Staten Island:1\n",
      "( 257 / 306 ) Indian Resturants in Randall Manor, Staten Island:0\n",
      "( 258 / 306 ) Indian Resturants in Howland Hook, Staten Island:0\n",
      "( 259 / 306 ) Indian Resturants in Elm Park, Staten Island:0\n",
      "( 260 / 306 ) Indian Resturants in Remsen Village, Brooklyn:0\n",
      "( 261 / 306 ) Indian Resturants in New Lots, Brooklyn:0\n",
      "( 262 / 306 ) Indian Resturants in Paerdegat Basin, Brooklyn:0\n",
      "( 263 / 306 ) Indian Resturants in Mill Basin, Brooklyn:0\n",
      "( 264 / 306 ) Indian Resturants in Jamaica Hills, Queens:3\n",
      "( 265 / 306 ) Indian Resturants in Utopia, Queens:0\n",
      "( 266 / 306 ) Indian Resturants in Pomonok, Queens:0\n",
      "( 267 / 306 ) Indian Resturants in Astoria Heights, Queens:0\n",
      "( 268 / 306 ) Indian Resturants in Claremont Village, Bronx:0\n",
      "( 269 / 306 ) Indian Resturants in Concourse Village, Bronx:1\n",
      "( 270 / 306 ) Indian Resturants in Mount Eden, Bronx:0\n",
      "( 271 / 306 ) Indian Resturants in Mount Hope, Bronx:0\n",
      "( 272 / 306 ) Indian Resturants in Sutton Place, Manhattan:3\n",
      "( 273 / 306 ) Indian Resturants in Hunters Point, Queens:0\n",
      "( 274 / 306 ) Indian Resturants in Turtle Bay, Manhattan:3\n",
      "( 275 / 306 ) Indian Resturants in Tudor City, Manhattan:2\n",
      "( 276 / 306 ) Indian Resturants in Stuyvesant Town, Manhattan:0\n",
      "( 277 / 306 ) Indian Resturants in Flatiron, Manhattan:0\n",
      "( 278 / 306 ) Indian Resturants in Sunnyside Gardens, Queens:1\n",
      "( 279 / 306 ) Indian Resturants in Blissville, Queens:1\n",
      "( 280 / 306 ) Indian Resturants in Fulton Ferry, Brooklyn:0\n",
      "( 281 / 306 ) Indian Resturants in Vinegar Hill, Brooklyn:0\n",
      "( 282 / 306 ) Indian Resturants in Weeksville, Brooklyn:0\n",
      "( 283 / 306 ) Indian Resturants in Broadway Junction, Brooklyn:1\n",
      "( 284 / 306 ) Indian Resturants in Dumbo, Brooklyn:0\n",
      "( 285 / 306 ) Indian Resturants in Manor Heights, Staten Island:0\n",
      "( 286 / 306 ) Indian Resturants in Willowbrook, Staten Island:0\n",
      "( 287 / 306 ) Indian Resturants in Sandy Ground, Staten Island:0\n",
      "( 288 / 306 ) Indian Resturants in Egbertville, Staten Island:0\n",
      "( 289 / 306 ) Indian Resturants in Roxbury, Queens:0\n",
      "( 290 / 306 ) Indian Resturants in Homecrest, Brooklyn:0\n",
      "( 291 / 306 ) Indian Resturants in Middle Village, Queens:0\n",
      "( 292 / 306 ) Indian Resturants in Prince's Bay, Staten Island:0\n",
      "( 293 / 306 ) Indian Resturants in Lighthouse Hill, Staten Island:0\n",
      "( 294 / 306 ) Indian Resturants in Richmond Valley, Staten Island:0\n",
      "( 295 / 306 ) Indian Resturants in Malba, Queens:0\n",
      "( 296 / 306 ) Indian Resturants in Highland Park, Brooklyn:0\n",
      "( 297 / 306 ) Indian Resturants in Madison, Brooklyn:0\n",
      "( 298 / 306 ) Indian Resturants in Bronxdale, Bronx:0\n",
      "( 299 / 306 ) Indian Resturants in Allerton, Bronx:0\n",
      "( 300 / 306 ) Indian Resturants in Kingsbridge Heights, Bronx:0\n",
      "( 301 / 306 ) Indian Resturants in Erasmus, Brooklyn:1\n",
      "( 302 / 306 ) Indian Resturants in Hudson Yards, Manhattan:0\n",
      "( 303 / 306 ) Indian Resturants in Hammels, Queens:0\n",
      "( 304 / 306 ) Indian Resturants in Bayswater, Queens:0\n",
      "( 305 / 306 ) Indian Resturants in Queensbridge, Queens:2\n",
      "( 306 / 306 ) Indian Resturants in Fox Hills, Staten Island:1\n"
     ]
    }
   ],
   "source": [
    "# prepare neighborhood list that contains indian resturants\n",
    "column_names=['Borough', 'Neighborhood', 'ID','Name']\n",
    "indian_rest_ny=pd.DataFrame(columns=column_names)\n",
    "count=1\n",
    "for row in new_york_data.values.tolist():\n",
    "    Borough, Neighborhood, Latitude, Longitude=row\n",
    "    venues = get_venues(Latitude,Longitude)\n",
    "    indian_resturants=venues[venues['Category']=='Indian Restaurant']   \n",
    "    print('(',count,'/',len(new_york_data),')','Indian Resturants in '+Neighborhood+', '+Borough+':'+str(len(indian_resturants)))\n",
    "    for resturant_detail in indian_resturants.values.tolist():\n",
    "        id, name , category=resturant_detail\n",
    "        indian_rest_ny = indian_rest_ny.append({'Borough': Borough,\n",
    "                                                'Neighborhood': Neighborhood, \n",
    "                                                'ID': id,\n",
    "                                                'Name' : name\n",
    "                                               }, ignore_index=True)\n",
    "    count+=1"
   ]
  },
  {
   "cell_type": "markdown",
   "metadata": {},
   "source": [
    "Now that we have got all the indian resturants in new york city , we will analyze it."
   ]
  },
  {
   "cell_type": "code",
   "execution_count": 11,
   "metadata": {},
   "outputs": [
    {
     "data": {
      "text/html": [
       "<div>\n",
       "<style scoped>\n",
       "    .dataframe tbody tr th:only-of-type {\n",
       "        vertical-align: middle;\n",
       "    }\n",
       "\n",
       "    .dataframe tbody tr th {\n",
       "        vertical-align: top;\n",
       "    }\n",
       "\n",
       "    .dataframe thead th {\n",
       "        text-align: right;\n",
       "    }\n",
       "</style>\n",
       "<table border=\"1\" class=\"dataframe\">\n",
       "  <thead>\n",
       "    <tr style=\"text-align: right;\">\n",
       "      <th></th>\n",
       "      <th>Borough</th>\n",
       "      <th>Neighborhood</th>\n",
       "      <th>ID</th>\n",
       "      <th>Name</th>\n",
       "    </tr>\n",
       "  </thead>\n",
       "  <tbody>\n",
       "    <tr>\n",
       "      <td>0</td>\n",
       "      <td>Bronx</td>\n",
       "      <td>Woodlawn</td>\n",
       "      <td>4c0448d9310fc9b6bf1dc761</td>\n",
       "      <td>Curry Spot</td>\n",
       "    </tr>\n",
       "    <tr>\n",
       "      <td>1</td>\n",
       "      <td>Bronx</td>\n",
       "      <td>Parkchester</td>\n",
       "      <td>4c194631838020a13e78e561</td>\n",
       "      <td>Melanies Roti Bar And Grill</td>\n",
       "    </tr>\n",
       "    <tr>\n",
       "      <td>2</td>\n",
       "      <td>Bronx</td>\n",
       "      <td>Spuyten Duyvil</td>\n",
       "      <td>4c04544df423a593ac83d116</td>\n",
       "      <td>Cumin Indian Cuisine</td>\n",
       "    </tr>\n",
       "    <tr>\n",
       "      <td>3</td>\n",
       "      <td>Bronx</td>\n",
       "      <td>Concourse</td>\n",
       "      <td>551b7f75498e86c00a0ed2e1</td>\n",
       "      <td>Hungry Bird</td>\n",
       "    </tr>\n",
       "    <tr>\n",
       "      <td>4</td>\n",
       "      <td>Bronx</td>\n",
       "      <td>Unionport</td>\n",
       "      <td>4c194631838020a13e78e561</td>\n",
       "      <td>Melanies Roti Bar And Grill</td>\n",
       "    </tr>\n",
       "  </tbody>\n",
       "</table>\n",
       "</div>"
      ],
      "text/plain": [
       "  Borough    Neighborhood                        ID  \\\n",
       "0   Bronx        Woodlawn  4c0448d9310fc9b6bf1dc761   \n",
       "1   Bronx     Parkchester  4c194631838020a13e78e561   \n",
       "2   Bronx  Spuyten Duyvil  4c04544df423a593ac83d116   \n",
       "3   Bronx       Concourse  551b7f75498e86c00a0ed2e1   \n",
       "4   Bronx       Unionport  4c194631838020a13e78e561   \n",
       "\n",
       "                          Name  \n",
       "0                   Curry Spot  \n",
       "1  Melanies Roti Bar And Grill  \n",
       "2         Cumin Indian Cuisine  \n",
       "3                  Hungry Bird  \n",
       "4  Melanies Roti Bar And Grill  "
      ]
     },
     "execution_count": 11,
     "metadata": {},
     "output_type": "execute_result"
    }
   ],
   "source": [
    "indian_rest_ny.head()"
   ]
  },
  {
   "cell_type": "code",
   "execution_count": 12,
   "metadata": {},
   "outputs": [
    {
     "data": {
      "text/plain": [
       "(151, 4)"
      ]
     },
     "execution_count": 12,
     "metadata": {},
     "output_type": "execute_result"
    }
   ],
   "source": [
    "indian_rest_ny.shape"
   ]
  },
  {
   "cell_type": "markdown",
   "metadata": {},
   "source": [
    "### From the above result, we see that there are 151 Indian Resturants across New York City."
   ]
  },
  {
   "cell_type": "markdown",
   "metadata": {},
   "source": [
    "Now let create a BAR PLOT to show Number of Indian Resturants for each Borough in New York City."
   ]
  },
  {
   "cell_type": "code",
   "execution_count": 13,
   "metadata": {},
   "outputs": [
    {
     "data": {
      "image/png": "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
